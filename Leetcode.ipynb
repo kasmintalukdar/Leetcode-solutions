{
  "nbformat": 4,
  "nbformat_minor": 0,
  "metadata": {
    "colab": {
      "provenance": [],
      "authorship_tag": "ABX9TyMmzE3SlyZwBiyVqIWZjAD1",
      "include_colab_link": true
    },
    "kernelspec": {
      "name": "python3",
      "display_name": "Python 3"
    },
    "language_info": {
      "name": "python"
    }
  },
  "cells": [
    {
      "cell_type": "markdown",
      "metadata": {
        "id": "view-in-github",
        "colab_type": "text"
      },
      "source": [
        "<a href=\"https://colab.research.google.com/github/kasmintalukdar/Leetcode-solutions/blob/main/Leetcode.ipynb\" target=\"_parent\"><img src=\"https://colab.research.google.com/assets/colab-badge.svg\" alt=\"Open In Colab\"/></a>"
      ]
    },
    {
      "cell_type": "markdown",
      "source": [
        "## Leetcode solution"
      ],
      "metadata": {
        "id": "q_CKI5tt13mK"
      }
    },
    {
      "cell_type": "markdown",
      "source": [
        "### LeetCode 1657 Determine if Two Strings Are Close (Python)"
      ],
      "metadata": {
        "id": "tHxAXSRy2OFa"
      }
    },
    {
      "cell_type": "code",
      "execution_count": null,
      "metadata": {
        "id": "y9ZYZYJc1uLE"
      },
      "outputs": [],
      "source": [
        "#method1(without using counter)\n",
        "def closeStrings(word1, word2):\n",
        "        \"\"\"\n",
        "        :type word1: str\n",
        "        :type word2: str\n",
        "        :rtype: bool\n",
        "        \"\"\"\n",
        "        charecter_count1={}\n",
        "        charecter_count2={}\n",
        "        for charecter in word1:\n",
        "            charecter_count1[charecter]=word1.count(charecter)\n",
        "        for charecter in word2:\n",
        "            charecter_count2[charecter]=word2.count(charecter)\n",
        "        key_list1=list(charecter_count1.keys())\n",
        "        key_list1.sort()\n",
        "        key_list2=list(charecter_count2.keys())\n",
        "        key_list2.sort()\n",
        "\n",
        "\n",
        "        if key_list1==key_list2:\n",
        "            if sum(charecter_count1.values())==sum(charecter_count2.values()):\n",
        "                return True\n",
        "        else:\n",
        "            return False"
      ]
    },
    {
      "cell_type": "code",
      "source": [
        "#test case\n",
        "closeStrings(\"cabbba\", \"aabbss\")"
      ],
      "metadata": {
        "colab": {
          "base_uri": "https://localhost:8080/"
        },
        "id": "3uO3Bie82lr6",
        "outputId": "1e0c1e1e-da4e-47bf-9d89-0fa7acab32d8"
      },
      "execution_count": null,
      "outputs": [
        {
          "output_type": "execute_result",
          "data": {
            "text/plain": [
              "False"
            ]
          },
          "metadata": {},
          "execution_count": 2
        }
      ]
    },
    {
      "cell_type": "code",
      "source": [
        "#method2(using counter)\n",
        "from collections import Counter\n",
        "def closeStrings( word1: str, word2: str) -> bool:\n",
        "      return set(word1) == set(word2) and Counter(Counter(word1).values()) == Counter(Counter(word2).values())"
      ],
      "metadata": {
        "id": "rhRDlJlS2456"
      },
      "execution_count": null,
      "outputs": []
    },
    {
      "cell_type": "code",
      "source": [
        "#test cases\n",
        "closeStrings(\"cabbba\", \"aabbss\")"
      ],
      "metadata": {
        "colab": {
          "base_uri": "https://localhost:8080/"
        },
        "id": "LNcHmVip3Kdb",
        "outputId": "bb574e4d-2f33-496f-8b46-c6780277dad5"
      },
      "execution_count": null,
      "outputs": [
        {
          "output_type": "execute_result",
          "data": {
            "text/plain": [
              "False"
            ]
          },
          "metadata": {},
          "execution_count": 4
        }
      ]
    },
    {
      "cell_type": "markdown",
      "source": [
        "### 451. Sort Characters By Frequency"
      ],
      "metadata": {
        "id": "DVOTE87i3jYF"
      }
    },
    {
      "cell_type": "code",
      "source": [
        "def frequencySort(s):\n",
        "        \"\"\"\n",
        "        :type s: str\n",
        "        :rtype: str\n",
        "        \"\"\"\n",
        "        \n",
        "        ch_freuency_dict=Counter(s)\n",
        "        output_string=''\n",
        "        sorted_ch_freuency_list = sorted(ch_freuency_dict.items(), key=lambda x:x[1])\n",
        "        reverse_sorted_ch_freuency_list=sorted_ch_freuency_list[::-1]\n",
        "        for i in range(len(reverse_sorted_ch_freuency_list)):\n",
        "            output_string=output_string+reverse_sorted_ch_freuency_list[i][0]*reverse_sorted_ch_freuency_list[i][1]\n",
        "        return output_string"
      ],
      "metadata": {
        "id": "U_Kt565B3lp4"
      },
      "execution_count": null,
      "outputs": []
    },
    {
      "cell_type": "code",
      "source": [
        "frequencySort(\"tree\")"
      ],
      "metadata": {
        "colab": {
          "base_uri": "https://localhost:8080/",
          "height": 35
        },
        "id": "OXLe2bbR4Ybs",
        "outputId": "7403084b-8444-401e-9ec1-81157b0dcac7"
      },
      "execution_count": null,
      "outputs": [
        {
          "output_type": "execute_result",
          "data": {
            "text/plain": [
              "'eert'"
            ],
            "application/vnd.google.colaboratory.intrinsic+json": {
              "type": "string"
            }
          },
          "metadata": {},
          "execution_count": 6
        }
      ]
    },
    {
      "cell_type": "markdown",
      "source": [
        "### 1. Two Sum\n",
        "Given an array of integers nums and an integer target, return indices of the two numbers such that they add up to target.\n",
        "\n",
        "You may assume that each input would have exactly one solution, and you may not use the same element twice.\n",
        "\n",
        "You can return the answer in any order.\n",
        "\n",
        "Follow-up: Can you come up with an algorithm that is less than O(n2) time complexity?"
      ],
      "metadata": {
        "id": "8QxMcwkPOPkI"
      }
    },
    {
      "cell_type": "code",
      "source": [
        "def twoSum(nums, target):\n",
        "        \"\"\"\n",
        "        :type nums: List[int]\n",
        "        :type target: int\n",
        "        :rtype: List[int]\n",
        "        \"\"\"\n",
        "        index_list=[]\n",
        "        for i in nums:\n",
        "            \n",
        "            res=target-i\n",
        "            ren_num=nums[:nums.index(i)]+nums[(nums.index(i)+1):]\n",
        "            \n",
        "            if res in ren_num:\n",
        "              \n",
        "              index_list.append(nums.index(i))\n",
        "              rev_num=nums[::-1]\n",
        "              rev_num[rev_num.index(res)]='_'\n",
        "\n",
        "              index_list.append(rev_num[::-1].index('_'))\n",
        "              break\n",
        "\n",
        "        return(index_list)"
      ],
      "metadata": {
        "id": "Q1D8UBMHOgYR"
      },
      "execution_count": null,
      "outputs": []
    },
    {
      "cell_type": "code",
      "source": [
        "twoSum([3,2,4], 6)"
      ],
      "metadata": {
        "colab": {
          "base_uri": "https://localhost:8080/"
        },
        "id": "JlXPMkT3OoRe",
        "outputId": "33000791-ba56-4214-c722-b1d57bbb6e6f"
      },
      "execution_count": null,
      "outputs": [
        {
          "output_type": "execute_result",
          "data": {
            "text/plain": [
              "[1, 2]"
            ]
          },
          "metadata": {},
          "execution_count": 9
        }
      ]
    },
    {
      "cell_type": "markdown",
      "source": [
        "### 3. Longest Substring Without Repeating Characters\n",
        "Example 1:\n",
        "\n",
        "Input: s = \"abcabcbb\"\n",
        "Output: 3\n",
        "Explanation: The answer is \"abc\", with the length of 3.\n"
      ],
      "metadata": {
        "id": "ZocB4mZ_HXX5"
      }
    },
    {
      "cell_type": "code",
      "source": [
        "def lengthOfLongestSubstring(s):\n",
        "        \"\"\"\n",
        "        :type s: str\n",
        "        :rtype: int\n",
        "        \"\"\"\n",
        "        dict={}\n",
        "        i=0\n",
        "        j=0\n",
        "        l=[]\n",
        "        for i in range(len(s)):\n",
        "          if s[i] in dict:\n",
        "            if dict[s[i]]>=j:\n",
        "              j=dict[s[i]]+1\n",
        "    \n",
        "            dict[s[i]]=i\n",
        "    \n",
        "          if s[i] not in dict:\n",
        "    \n",
        "            dict[s[i]]=i\n",
        "    \n",
        "          l.append(i-j+1)\n",
        "        if l:\n",
        "            return max(l)\n",
        "        else:\n",
        "            return 0"
      ],
      "metadata": {
        "id": "brhDhX02Hj5A"
      },
      "execution_count": null,
      "outputs": []
    },
    {
      "cell_type": "code",
      "source": [
        "lengthOfLongestSubstring(\"abcabcbb\")"
      ],
      "metadata": {
        "colab": {
          "base_uri": "https://localhost:8080/"
        },
        "id": "HJCv-E-oH0sv",
        "outputId": "8536d8a8-9dd6-498e-c330-0d45aa0ab8e1"
      },
      "execution_count": null,
      "outputs": [
        {
          "output_type": "execute_result",
          "data": {
            "text/plain": [
              "3"
            ]
          },
          "metadata": {},
          "execution_count": 2
        }
      ]
    },
    {
      "cell_type": "markdown",
      "source": [
        "### 217. Contains Duplicate\n",
        "Given an integer array nums, return true if any value appears at least twice in the array, and return false if every element is distinct.\n",
        "Example 1:\n",
        "\n",
        "Input: nums = [1,2,3,1]\n",
        "Output: true"
      ],
      "metadata": {
        "id": "1dCLUBwDh0sl"
      }
    },
    {
      "cell_type": "code",
      "source": [
        "from collections import Counter\n",
        "def containsDuplicate(nums):\n",
        "        \"\"\"\n",
        "        :type nums: List[int]\n",
        "        :rtype: bool\n",
        "        \"\"\"\n",
        "        x=False\n",
        "        dict=Counter(nums)\n",
        "        print(list(dict.values()))\n",
        "        for x in list(dict.values()):\n",
        "            if x>=2:\n",
        "                x=True\n",
        "                break\n",
        "            else:\n",
        "              x=False\n",
        "        return x"
      ],
      "metadata": {
        "id": "kIlUR2xJhxJY"
      },
      "execution_count": 3,
      "outputs": []
    },
    {
      "cell_type": "code",
      "source": [
        "containsDuplicate([1,2,3,4])"
      ],
      "metadata": {
        "colab": {
          "base_uri": "https://localhost:8080/"
        },
        "id": "TqzyQRfgiDbe",
        "outputId": "b3d76472-6e72-4583-e9fc-72fc7368eb5b"
      },
      "execution_count": 4,
      "outputs": [
        {
          "output_type": "stream",
          "name": "stdout",
          "text": [
            "[1, 1, 1, 1]\n"
          ]
        },
        {
          "output_type": "execute_result",
          "data": {
            "text/plain": [
              "False"
            ]
          },
          "metadata": {},
          "execution_count": 4
        }
      ]
    }
  ]
}